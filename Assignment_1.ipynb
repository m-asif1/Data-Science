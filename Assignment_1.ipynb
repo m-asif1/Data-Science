{
  "nbformat": 4,
  "nbformat_minor": 0,
  "metadata": {
    "colab": {
      "name": "Assignment # 1",
      "provenance": []
    },
    "kernelspec": {
      "name": "python3",
      "display_name": "Python 3"
    },
    "language_info": {
      "name": "python"
    }
  },
  "cells": [
    {
      "cell_type": "code",
      "execution_count": 1,
      "metadata": {
        "colab": {
          "base_uri": "https://localhost:8080/"
        },
        "id": "S9eX2sN98iBR",
        "outputId": "c90429dd-eaf0-46eb-a29e-820d45606f1b"
      },
      "outputs": [
        {
          "output_type": "stream",
          "name": "stdout",
          "text": [
            "Twinkle, twinkle, little star,\n",
            "        How I wonder what you are!\n",
            "                 Up above the world so high,\n",
            "                 Like a diamond in the sky.\n",
            "Twinkle, twinkle, little star,\n",
            "        How I wonder what you are\n"
          ]
        }
      ],
      "source": [
        "print (\"Twinkle, twinkle, little star,\\n\" \n",
        "        '        '\"How I wonder what you are!\\n\"\n",
        "        '                 '\"Up above the world so high,\\n\"\n",
        "        '                 '\"Like a diamond in the sky.\\n\"\n",
        "       \"Twinkle, twinkle, little star,\\n\"\n",
        "        '        '\"How I wonder what you are\")"
      ]
    },
    {
      "cell_type": "code",
      "source": [
        "!python --version"
      ],
      "metadata": {
        "colab": {
          "base_uri": "https://localhost:8080/"
        },
        "id": "jn681Yz286Ov",
        "outputId": "0ea8d442-1352-45e0-d53e-80cd1d5534c2"
      },
      "execution_count": 2,
      "outputs": [
        {
          "output_type": "stream",
          "name": "stdout",
          "text": [
            "Python 3.7.12\n"
          ]
        }
      ]
    },
    {
      "cell_type": "code",
      "source": [
        "from datetime import datetime\n",
        "x = datetime.now()\n",
        "print(x)"
      ],
      "metadata": {
        "colab": {
          "base_uri": "https://localhost:8080/"
        },
        "id": "DWMTaADz8_48",
        "outputId": "6dba28a0-4f1d-4176-e2e3-760647a8eb3b"
      },
      "execution_count": 3,
      "outputs": [
        {
          "output_type": "stream",
          "name": "stdout",
          "text": [
            "2022-01-01 14:03:42.803312\n"
          ]
        }
      ]
    },
    {
      "cell_type": "code",
      "source": [
        "from math import pi\n",
        "r = float(input (\"Enter radius of circle : \"))\n",
        "print (\"Area of the circle is: \" + str(pi * r**2))"
      ],
      "metadata": {
        "colab": {
          "base_uri": "https://localhost:8080/"
        },
        "id": "erKj4hs59Hzq",
        "outputId": "95633212-a065-447e-f8a7-09c0cb096e5a"
      },
      "execution_count": 5,
      "outputs": [
        {
          "output_type": "stream",
          "name": "stdout",
          "text": [
            "Enter radius of circle : 10\n",
            "Area of the circle is: 314.1592653589793\n"
          ]
        }
      ]
    },
    {
      "cell_type": "code",
      "source": [
        "fname = input(\"Input your First Name : \")\n",
        "lname = input(\"Input your Last Name : \")\n",
        "print (lname + \" \" + fname)"
      ],
      "metadata": {
        "colab": {
          "base_uri": "https://localhost:8080/"
        },
        "id": "jJ1igq5q9St6",
        "outputId": "7ad861bd-0fa7-47a8-97dd-6e5fa9d48a82"
      },
      "execution_count": 6,
      "outputs": [
        {
          "output_type": "stream",
          "name": "stdout",
          "text": [
            "Input your First Name : Muhammad\n",
            "Input your Last Name : Asif\n",
            "Asif Muhammad\n"
          ]
        }
      ]
    },
    {
      "cell_type": "code",
      "source": [
        "a = (input (\"Enter first number = \"))\n",
        "b = (input (\"Enter second number = \"))\n",
        "sum = int(a) + int(b)\n",
        "print(sum)"
      ],
      "metadata": {
        "colab": {
          "base_uri": "https://localhost:8080/"
        },
        "id": "_aM0RB3J9rcf",
        "outputId": "55d8db57-78bf-405f-a658-166ec751916c"
      },
      "execution_count": 18,
      "outputs": [
        {
          "output_type": "stream",
          "name": "stdout",
          "text": [
            "Enter first number = 5\n",
            "Enter second number = 5\n",
            "10\n"
          ]
        }
      ]
    }
  ]
}